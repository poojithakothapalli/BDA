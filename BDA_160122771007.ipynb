{
  "nbformat": 4,
  "nbformat_minor": 0,
  "metadata": {
    "colab": {
      "provenance": [],
      "authorship_tag": "ABX9TyMuGYLtsg4d3Se77IkD8/az",
      "include_colab_link": true
    },
    "kernelspec": {
      "name": "python3",
      "display_name": "Python 3"
    },
    "language_info": {
      "name": "python"
    }
  },
  "cells": [
    {
      "cell_type": "markdown",
      "metadata": {
        "id": "view-in-github",
        "colab_type": "text"
      },
      "source": [
        "<a href=\"https://colab.research.google.com/github/poojithakothapalli/BDA/blob/main/BDA_160122771007.ipynb\" target=\"_parent\"><img src=\"https://colab.research.google.com/assets/colab-badge.svg\" alt=\"Open In Colab\"/></a>"
      ]
    },
    {
      "cell_type": "markdown",
      "source": [
        "1.Build a classification model with spark with a dataset of your choice in python for big data analysis"
      ],
      "metadata": {
        "id": "ETNX4-fC0xoZ"
      }
    },
    {
      "cell_type": "code",
      "source": [
        "from pyspark.sql import SparkSession\n",
        "from pyspark.ml.feature import VectorAssembler\n",
        "from pyspark.ml.classification import DecisionTreeClassifier\n",
        "from pyspark.ml.evaluation import BinaryClassificationEvaluator\n",
        "spark = SparkSession.builder.appName(\"UserConversionClassification\").getOrCreate()\n",
        "data = [\n",
        "    (25, 5, 3.5, 0),\n",
        "    (32, 8, 5.2, 1),\n",
        "    (40, 4, 2.5, 0),\n",
        "    (23, 12, 6.8, 1),\n",
        "    (36, 9, 5.9, 1),\n",
        "    (29, 2, 1.2, 0),\n",
        "    (50, 11, 6.5, 1),\n",
        "    (45, 3, 2.1, 0),\n",
        "    (31, 6, 4.0, 0),\n",
        "    (28, 10, 6.1, 1)\n",
        "]\n",
        "columns = [\"age\", \"pages_visited\", \"time_spent\", \"label\"]\n",
        "df = spark.createDataFrame(data, schema=columns)\n",
        "assembler = VectorAssembler(\n",
        "    inputCols=[\"age\", \"pages_visited\", \"time_spent\"],\n",
        "    outputCol=\"features\"\n",
        ")\n",
        "df_prepared = assembler.transform(df).select(\"features\", \"label\")\n",
        "train_data, test_data = df_prepared.randomSplit([0.7, 0.3], seed=42)\n",
        "dt = DecisionTreeClassifier(featuresCol=\"features\", labelCol=\"label\")\n",
        "model = dt.fit(train_data)\n",
        "predictions = model.transform(test_data)\n",
        "predictions.select(\"features\", \"label\", \"prediction\").show()\n",
        "evaluator = BinaryClassificationEvaluator()\n",
        "accuracy = evaluator.evaluate(predictions)\n",
        "print(f\"Test AUC: {accuracy:.2f}\")\n",
        "spark.stop()\n"
      ],
      "metadata": {
        "colab": {
          "base_uri": "https://localhost:8080/"
        },
        "id": "rtmzbxeeFCZ4",
        "outputId": "2e9b49dc-3767-4ea4-edf2-6d4b7f78c519"
      },
      "execution_count": null,
      "outputs": [
        {
          "output_type": "stream",
          "name": "stdout",
          "text": [
            "+---------------+-----+----------+\n",
            "|       features|label|prediction|\n",
            "+---------------+-----+----------+\n",
            "| [32.0,8.0,5.2]|    1|       1.0|\n",
            "|[28.0,10.0,6.1]|    1|       1.0|\n",
            "+---------------+-----+----------+\n",
            "\n",
            "Test AUC: 1.00\n"
          ]
        }
      ]
    },
    {
      "cell_type": "markdown",
      "source": [
        "2.Build a clustering model with spark with a data set of your choice"
      ],
      "metadata": {
        "id": "DdHOj8nEImj9"
      }
    },
    {
      "cell_type": "code",
      "source": [
        "from pyspark.sql import SparkSession\n",
        "from pyspark.ml.feature import VectorAssembler\n",
        "from pyspark.ml.clustering import KMeans\n",
        "spark = SparkSession.builder.appName(\"CustomerSegmentation\").getOrCreate()\n",
        "data = [\n",
        "    (25, 30, 40),\n",
        "    (34, 55, 60),\n",
        "    (22, 20, 30),\n",
        "    (45, 70, 80),\n",
        "    (23, 25, 20),\n",
        "    (40, 60, 70),\n",
        "    (29, 35, 40),\n",
        "    (50, 90, 90),\n",
        "    (21, 18, 15),\n",
        "    (31, 50, 55),\n",
        "    (42, 85, 88),\n",
        "    (33, 48, 53),\n",
        "    (46, 95, 85),\n",
        "    (28, 33, 38),\n",
        "    (26, 31, 36),\n",
        "]\n",
        "columns = [\"age\", \"annual_income\", \"spending_score\"]\n",
        "\n",
        "# Create DataFrame\n",
        "df = spark.createDataFrame(data, schema=columns)\n",
        "\n",
        "# Assemble features\n",
        "assembler = VectorAssembler(\n",
        "    inputCols=[\"age\", \"annual_income\", \"spending_score\"],\n",
        "    outputCol=\"features\"\n",
        ")\n",
        "df_features = assembler.transform(df).select(\"features\")\n",
        "\n",
        "# KMeans clustering\n",
        "kmeans = KMeans(k=3, seed=1)\n",
        "model = kmeans.fit(df_features)\n",
        "\n",
        "# Predict clusters\n",
        "predictions = model.transform(df_features)\n",
        "predictions.show(truncate=False)\n",
        "\n",
        "# Print cluster centers\n",
        "print(\"Cluster Centers:\")\n",
        "for center in model.clusterCenters():\n",
        "    print(center)\n",
        "\n",
        "# Stop Spark session\n",
        "spark.stop()\n"
      ],
      "metadata": {
        "colab": {
          "base_uri": "https://localhost:8080/"
        },
        "id": "cHenGp8JIug7",
        "outputId": "e2902d66-1950-410d-ddf5-e02798eb9f63"
      },
      "execution_count": null,
      "outputs": [
        {
          "output_type": "stream",
          "name": "stdout",
          "text": [
            "+----------------+----------+\n",
            "|features        |prediction|\n",
            "+----------------+----------+\n",
            "|[25.0,30.0,40.0]|0         |\n",
            "|[34.0,55.0,60.0]|2         |\n",
            "|[22.0,20.0,30.0]|0         |\n",
            "|[45.0,70.0,80.0]|1         |\n",
            "|[23.0,25.0,20.0]|0         |\n",
            "|[40.0,60.0,70.0]|2         |\n",
            "|[29.0,35.0,40.0]|0         |\n",
            "|[50.0,90.0,90.0]|1         |\n",
            "|[21.0,18.0,15.0]|0         |\n",
            "|[31.0,50.0,55.0]|2         |\n",
            "|[42.0,85.0,88.0]|1         |\n",
            "|[33.0,48.0,53.0]|2         |\n",
            "|[46.0,95.0,85.0]|1         |\n",
            "|[28.0,33.0,38.0]|0         |\n",
            "|[26.0,31.0,36.0]|0         |\n",
            "+----------------+----------+\n",
            "\n",
            "Cluster Centers:\n",
            "[24.85714286 27.42857143 31.28571429]\n",
            "[45.75 85.   85.75]\n",
            "[34.5  53.25 59.5 ]\n"
          ]
        }
      ]
    },
    {
      "cell_type": "markdown",
      "source": [
        "3.Build a recommondation engine with spark with a dataset of your choice"
      ],
      "metadata": {
        "id": "zlxDE50EJvma"
      }
    },
    {
      "cell_type": "code",
      "source": [
        "from pyspark.sql import SparkSession\n",
        "from pyspark.ml.recommendation import ALS\n",
        "from pyspark.ml.evaluation import RegressionEvaluator\n",
        "\n",
        "# Start Spark session\n",
        "spark = SparkSession.builder.appName(\"ALSRecommender\").getOrCreate()\n",
        "\n",
        "# Simulated user-item-rating data\n",
        "data = [\n",
        "    (1, 101, 5.0),\n",
        "    (1, 102, 3.0),\n",
        "    (1, 103, 2.5),\n",
        "    (2, 101, 2.0),\n",
        "    (2, 102, 2.5),\n",
        "    (2, 103, 5.0),\n",
        "    (2, 104, 4.0),\n",
        "    (3, 101, 5.0),\n",
        "    (3, 104, 4.0),\n",
        "    (3, 105, 1.0),\n",
        "    (4, 103, 4.0),\n",
        "    (4, 104, 4.5),\n",
        "    (4, 105, 5.0),\n",
        "]\n",
        "\n",
        "# Define schema\n",
        "columns = [\"user_id\", \"item_id\", \"rating\"]\n",
        "\n",
        "# Create DataFrame\n",
        "df = spark.createDataFrame(data, schema=columns)\n",
        "\n",
        "# Split into train/test sets\n",
        "train_data, test_data = df.randomSplit([0.8, 0.2], seed=42)\n",
        "\n",
        "# Build ALS model\n",
        "als = ALS(\n",
        "    userCol=\"user_id\",\n",
        "    itemCol=\"item_id\",\n",
        "    ratingCol=\"rating\",\n",
        "    coldStartStrategy=\"drop\",  # Drop unknowns in prediction\n",
        "    nonnegative=True,\n",
        "    implicitPrefs=False,\n",
        "    rank=10,\n",
        "    maxIter=10,\n",
        "    regParam=0.1\n",
        ")\n",
        "\n",
        "# Train the model\n",
        "model = als.fit(train_data)\n",
        "\n",
        "# Predict ratings for test data\n",
        "predictions = model.transform(test_data)\n",
        "predictions.show()\n",
        "\n",
        "# Evaluate using RMSE\n",
        "evaluator = RegressionEvaluator(\n",
        "    metricName=\"rmse\",\n",
        "    labelCol=\"rating\",\n",
        "    predictionCol=\"prediction\"\n",
        ")\n",
        "rmse = evaluator.evaluate(predictions)\n",
        "print(f\"Test RMSE: {rmse:.2f}\")\n",
        "\n",
        "# Generate top 3 item recommendations for each user\n",
        "user_recs = model.recommendForAllUsers(3)\n",
        "user_recs.show(truncate=False)\n",
        "\n",
        "# Stop Spark session\n",
        "spark.stop()\n"
      ],
      "metadata": {
        "colab": {
          "base_uri": "https://localhost:8080/"
        },
        "id": "7U3vFb7IJyyE",
        "outputId": "bfe69ab2-1a74-48a8-8ba3-e70600b04349"
      },
      "execution_count": null,
      "outputs": [
        {
          "output_type": "stream",
          "name": "stdout",
          "text": [
            "+-------+-------+------+----------+\n",
            "|user_id|item_id|rating|prediction|\n",
            "+-------+-------+------+----------+\n",
            "|      1|    103|   2.5| 2.8751957|\n",
            "|      4|    104|   4.5| 1.3660398|\n",
            "|      4|    105|   5.0|0.34150994|\n",
            "|      2|    104|   4.0| 1.6198617|\n",
            "+-------+-------+------+----------+\n",
            "\n",
            "Test RMSE: 3.05\n",
            "+-------+------------------------------------------------------+\n",
            "|user_id|recommendations                                       |\n",
            "+-------+------------------------------------------------------+\n",
            "|1      |[{101, 4.902092}, {104, 4.01145}, {102, 2.9638023}]   |\n",
            "|2      |[{103, 4.8664002}, {102, 2.4335005}, {101, 2.030826}] |\n",
            "|3      |[{101, 4.848009}, {104, 3.972286}, {102, 2.7848659}]  |\n",
            "|4      |[{103, 3.9582627}, {102, 2.0035877}, {101, 1.7105932}]|\n",
            "+-------+------------------------------------------------------+\n",
            "\n"
          ]
        }
      ]
    }
  ]
}